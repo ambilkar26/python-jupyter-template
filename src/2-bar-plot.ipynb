{
 "cells": [
  {
   "cell_type": "markdown",
   "metadata": {},
   "source": [
    "### Exercise 2: Bar Plot with Colors"
   ]
  },
  {
   "cell_type": "code",
   "execution_count": null,
   "metadata": {},
   "outputs": [],
   "source": [
    "# TASK: Create a bar plot with the following data: categories = ['A', 'B', 'C', 'D'] and values = [5, 7, 3, 9].\n",
    "# Use different colors for each bar and add a title to the plot.\n",
    "import matplotlib.pyplot as plt\n",
    "\n",
    "def create_bar_plot(categories, values):\n",
    "    # Input validation\n",
    "    if not isinstance(categories, list) or not isinstance(values, list):\n",
    "        raise ValueError(\"Both categories and values must be lists.\")\n",
    "    \n",
    "    if len(categories) != len(values):\n",
    "        raise ValueError(\"Categories and values must have the same length.\")\n",
    "    \n",
    "    if not all(isinstance(cat, str) for cat in categories):\n",
    "        raise ValueError(\"All categories must be strings.\")\n",
    "    \n",
    "    if not all(isinstance(val, (int, float)) for val in values):\n",
    "        raise ValueError(\"All values must be numeric (int or float).\")\n",
    "\n",
    "    # Plot\n",
    "    colors = ['skyblue', 'orange', 'green', 'red']\n",
    "    plt.figure(figsize=(8, 5))\n",
    "    plt.bar(categories, values, color=colors[:len(categories)])\n",
    "    plt.title('Bar Plot of Categories and Values')\n",
    "    plt.xlabel('Categories')\n",
    "    plt.ylabel('Values')\n",
    "    plt.tight_layout()\n",
    "    plt.show()\n",
    "\n",
    "# Sample data\n",
    "categories = ['A', 'B', 'C', 'D']\n",
    "values = [5, 7, 3, 9]\n",
    "\n",
    "# Create the bar plot\n",
    "create_bar_plot(categories, values)\n",
    "\n"
   ]
  }
 ],
 "metadata": {
  "language_info": {
   "name": "python"
  }
 },
 "nbformat": 4,
 "nbformat_minor": 2
}
