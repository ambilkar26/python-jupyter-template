{
 "cells": [
  {
   "cell_type": "markdown",
   "metadata": {},
   "source": [
    "### Exercise 5: Subplot Layout"
   ]
  },
  {
   "cell_type": "code",
   "execution_count": null,
   "metadata": {},
   "outputs": [],
   "source": [
    "# TASK: Create a 2x2 subplot layout.\n",
    "# Plot a line chart in the first subplot, a bar chart in the second, a scatter plot in the third, and a pie chart in the fourth.\n",
    "import matplotlib.pyplot as plt\n",
    "\n",
    "try:\n",
    "    fig, axs = plt.subplots(2, 2, figsize=(10, 8))\n",
    "\n",
    "    # Data for plots\n",
    "    x = [1, 2, 3, 4, 5]\n",
    "    y_line = [2, 3, 5, 7, 11]\n",
    "    y_bar = [5, 7, 3, 8, 4]\n",
    "    x_scatter = [1, 2, 3, 4, 5]\n",
    "    y_scatter = [5, 3, 9, 6, 2]\n",
    "    pie_sizes = [30, 25, 25, 20]\n",
    "    pie_labels = ['A', 'B', 'C', 'D']\n",
    "\n",
    "    # 1st subplot - Line chart\n",
    "    try:\n",
    "        axs[0, 0].plot(x, y_line, marker='o', color='blue')\n",
    "        axs[0, 0].set_title('Line Chart')\n",
    "        axs[0, 0].set_xlabel('X-axis')\n",
    "        axs[0, 0].set_ylabel('Y-axis')\n",
    "    except Exception as e:\n",
    "        print(f\"Error plotting line chart: {e}\")\n",
    "\n",
    "    # 2nd subplot - Bar chart\n",
    "    try:\n",
    "        axs[0, 1].bar(x, y_bar, color='green')\n",
    "        axs[0, 1].set_title('Bar Chart')\n",
    "        axs[0, 1].set_xlabel('Categories')\n",
    "        axs[0, 1].set_ylabel('Values')\n",
    "    except Exception as e:\n",
    "        print(f\"Error plotting bar chart: {e}\")\n",
    "\n",
    "    # 3rd subplot - Scatter plot\n",
    "    try:\n",
    "        axs[1, 0].scatter(x_scatter, y_scatter, color='red')\n",
    "        axs[1, 0].set_title('Scatter Plot')\n",
    "        axs[1, 0].set_xlabel('X-axis')\n",
    "        axs[1, 0].set_ylabel('Y-axis')\n",
    "    except Exception as e:\n",
    "        print(f\"Error plotting scatter plot: {e}\")\n",
    "\n",
    "    # 4th subplot - Pie chart\n",
    "    try:\n",
    "        axs[1, 1].pie(pie_sizes, labels=pie_labels, autopct='%1.1f%%', startangle=90)\n",
    "        axs[1, 1].set_title('Pie Chart')\n",
    "        axs[1, 1].axis('equal')  # Equal aspect ratio ensures pie is circular.\n",
    "    except Exception as e:\n",
    "        print(f\"Error plotting pie chart: {e}\")\n",
    "\n",
    "    plt.tight_layout()\n",
    "    plt.show()\n",
    "\n",
    "except Exception as main_e:\n",
    "    print(f\"Error creating subplot layout: {main_e}\")\n"
   ]
  }
 ],
 "metadata": {
  "language_info": {
   "name": "python"
  }
 },
 "nbformat": 4,
 "nbformat_minor": 2
}
