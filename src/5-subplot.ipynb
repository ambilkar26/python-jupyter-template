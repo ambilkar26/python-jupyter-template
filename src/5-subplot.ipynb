{
 "cells": [
  {
   "cell_type": "markdown",
   "metadata": {},
   "source": [
    "### Exercise 5: Subplot Layout"
   ]
  },
  {
   "cell_type": "code",
   "execution_count": null,
   "metadata": {},
   "outputs": [],
   "source": [
    "# TASK: Create a 2x2 subplot layout.\n",
    "# Plot a line chart in the first subplot, a bar chart in the second, a scatter plot in the third, and a pie chart in the fourth.\n",
    "import matplotlib.pyplot as plt\n",
    "import numpy as np\n",
    "\n",
    "# Data for plots\n",
    "x_line = np.arange(0, 11)\n",
    "y_line = x_line ** 2\n",
    "\n",
    "categories = ['A', 'B', 'C', 'D']\n",
    "bar_values = [5, 7, 3, 9]\n",
    "bar_colors = ['red', 'green', 'blue', 'orange']\n",
    "\n",
    "x_scatter = [1, 2, 3, 4, 5]\n",
    "y_scatter = [2, 4, 6, 8, 10]\n",
    "\n",
    "pie_labels = ['Python', 'Java', 'C++', 'JavaScript']\n",
    "pie_sizes = [40, 25, 20, 15]\n",
    "\n",
    "# Create subplots\n",
    "fig, axs = plt.subplots(2, 2, figsize=(10, 8))\n",
    "\n",
    "# Line plot\n",
    "axs[0, 0].plot(x_line, y_line, marker='o', color='blue')\n",
    "axs[0, 0].set_title('Line Chart')\n",
    "axs[0, 0]()\n"
   ]
  }
 ],
 "metadata": {
  "language_info": {
   "name": "python"
  }
 },
 "nbformat": 4,
 "nbformat_minor": 2
}
