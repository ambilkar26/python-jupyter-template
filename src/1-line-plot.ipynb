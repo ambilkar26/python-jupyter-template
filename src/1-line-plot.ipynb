{
 "cells": [
  {
   "cell_type": "markdown",
   "metadata": {},
   "source": [
    "### Exercise 1: Line Plot Customization"
   ]
  },
  {
   "cell_type": "code",
   "execution_count": null,
   "metadata": {},
   "outputs": [],
   "source": [
    "# TASK: Create a line plot with x values ranging from 0 to 10 and y values as the square of x.\n",
    "# Customize the plot by adding a title, labels for both axes, and a grid.\n",
    "import matplotlib.pyplot as plt\n",
    "\n",
    "def plot_squared_values():\n",
    "    try:\n",
    "        # Define x and y values\n",
    "        x = list(range(0, 11))\n",
    "        y = [i**2 for i in x]\n",
    "\n",
    "        # Create the plot\n",
    "        plt.figure(figsize=(8, 5))\n",
    "        plt.plot(x, y, marker='o', color='blue', linestyle='-')\n",
    "\n",
    "        # Add title and labels\n",
    "        plt.title('Square of X Values')\n",
    "        plt.xlabel('X Values')\n",
    "        plt.ylabel('Y = X²')\n",
    "\n",
    "        # Add grid\n",
    "        plt.grid(True)\n",
    "\n",
    "        # Show the plot\n",
    "        plt.tight_layout()\n",
    "        plt.show()\n",
    "\n",
    "    except Exception as e:\n",
    "        print(f\"An error occurred while plotting: {e}\")\n",
    "\n",
    "# Call the function\n",
    "plot_squared_values()\n",
    "\n"
   ]
  }
 ],
 "metadata": {
  "language_info": {
   "name": "python"
  }
 },
 "nbformat": 4,
 "nbformat_minor": 2
}
